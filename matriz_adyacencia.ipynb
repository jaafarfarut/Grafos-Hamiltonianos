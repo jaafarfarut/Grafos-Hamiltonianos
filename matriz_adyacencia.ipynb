{
 "cells": [
  {
   "cell_type": "code",
   "execution_count": 2,
   "metadata": {},
   "outputs": [
    {
     "name": "stderr",
     "output_type": "stream",
     "text": [
      "Warning message in cbind(b1, b2, b3, b4):\n",
      "“number of rows of result is not a multiple of vector length (arg 1)”"
     ]
    },
    {
     "data": {
      "text/html": [
       "<table>\n",
       "<thead><tr><th></th><th scope=col>c1</th><th scope=col>c2</th><th scope=col>c3</th><th scope=col>c4</th></tr></thead>\n",
       "<tbody>\n",
       "\t<tr><th scope=row>f1</th><td>0</td><td>0</td><td>1</td><td>0</td></tr>\n",
       "\t<tr><th scope=row>f2</th><td>0</td><td>0</td><td>0</td><td>0</td></tr>\n",
       "\t<tr><th scope=row>f3</th><td>1</td><td>0</td><td>0</td><td>1</td></tr>\n",
       "\t<tr><th scope=row>f4</th><td>0</td><td>0</td><td>1</td><td>0</td></tr>\n",
       "</tbody>\n",
       "</table>\n"
      ],
      "text/latex": [
       "\\begin{tabular}{r|llll}\n",
       "  & c1 & c2 & c3 & c4\\\\\n",
       "\\hline\n",
       "\tf1 & 0 & 0 & 1 & 0\\\\\n",
       "\tf2 & 0 & 0 & 0 & 0\\\\\n",
       "\tf3 & 1 & 0 & 0 & 1\\\\\n",
       "\tf4 & 0 & 0 & 1 & 0\\\\\n",
       "\\end{tabular}\n"
      ],
      "text/markdown": [
       "\n",
       "| <!--/--> | c1 | c2 | c3 | c4 | \n",
       "|---|---|---|---|\n",
       "| f1 | 0 | 0 | 1 | 0 | \n",
       "| f2 | 0 | 0 | 0 | 0 | \n",
       "| f3 | 1 | 0 | 0 | 1 | \n",
       "| f4 | 0 | 0 | 1 | 0 | \n",
       "\n",
       "\n"
      ],
      "text/plain": [
       "   c1 c2 c3 c4\n",
       "f1 0  0  1  0 \n",
       "f2 0  0  0  0 \n",
       "f3 1  0  0  1 \n",
       "f4 0  0  1  0 "
      ]
     },
     "metadata": {},
     "output_type": "display_data"
    }
   ],
   "source": [
    "#matrices de adyacencia\n",
    "#otra forma de crearlas y detallarlas en Rstudio\n",
    "b1<-c(0,0,1.0)\n",
    "b2<-c(0,0,0,0)\n",
    "b3<-c(1,0,0,1)\n",
    "b4<-c(0,0,1,0)\n",
    "matriz<-cbind(b1,b2,b3,b4)\n",
    "nomcol<-c(\"c1\",\"c2\",\"c3\",\"c4\")                          #la funcion \"nomcol\" nos permite nombrar las columnas \n",
    "nomfila<-c(\"f1\",\"f2\",\"f3\",\"f4\")                         #la funcion \"nomfila\" nos permite nombrar las filas \n",
    "dimnames(matriz)<-list(nomfila,nomcol)                  #la funcion \"dimnames\" nos permite un matoyr orden al momento de nombrar la matriz\n",
    "matriz\n",
    "\n",
    "#Se observa ahora que en una matriz de adyacencia se cumple que en ciXfi para cualquier i= 1,2,3,... , el valor es 0\n",
    "#eso se da para evitar bucles en el grafo"
   ]
  }
 ],
 "metadata": {
  "kernelspec": {
   "display_name": "R",
   "language": "R",
   "name": "ir"
  },
  "language_info": {
   "codemirror_mode": "r",
   "file_extension": ".r",
   "mimetype": "text/x-r-source",
   "name": "R",
   "pygments_lexer": "r",
   "version": "3.2.3"
  }
 },
 "nbformat": 4,
 "nbformat_minor": 2
}
